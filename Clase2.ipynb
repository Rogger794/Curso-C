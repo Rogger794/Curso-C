{
 "cells": [
  {
   "cell_type": "markdown",
   "metadata": {},
   "source": [
    "## 2. Introducción al Lenguaje C\n",
    "\n",
    "En este documento se introducen los elementos principales de la programación en lenguaje C (Creado entre 1970 y 1972 por Brian Kernighan y Dennis Ritchie para escribir el código del sistema operativo UNIX). Así como algunas funciones de las bibliotecas estándares.\n",
    "\n",
    "### 2.1 Bibliotecas Estándares\n",
    "\n",
    "* entrada y salida de datos **stdio.h**\n",
    "* manejo de cadenas **string.h**\n",
    "* memoria dinámica **stdlib.h**\n",
    "* rutinas matemáticas **math.h**\n",
    "\n",
    "### 2.2 Estructura de un Fichero Fuente\n",
    "\n",
    "    #include <biblioteca1.h>\n",
    "    #include <biblioteca2.h>\n",
    "    \n",
    "    //... declaraciones de funciones ... \n",
    "    \n",
    "    //... definiciones (cuerpos de funciones) ... \n",
    "    //... declaraciones de variables globales ... \n",
    "    \n",
    "    void main()\n",
    "    {\n",
    "    //... cuerpo del main ... \n",
    "    }\n",
    "    \n",
    "    //... otras definiciones de funciones ... \n",
    "\n",
    "### 2.3 Comentarios\n",
    "\n",
    "Un comentario es una secuencia de caracteres que el compilador trata como un único carácter de espacio en blanco y se pasa por alto de cualquier otra manera. Estos deben estar encerrados entre una barra diagonal y un asterisco \n",
    "(/* cualquier texto */). \n",
    "Otra forma de expresarlos es comenzando con // y terminándolo con un salto de línea (comentario de una sola línea).\\\\\n",
    "No se pueden anidar comentarios (comentarios dentro de otros)."
   ]
  },
  {
   "cell_type": "code",
   "execution_count": 7,
   "metadata": {
    "collapsed": false
   },
   "outputs": [
    {
     "name": "stderr",
     "output_type": "stream",
     "text": []
    },
    {
     "name": "stdout",
     "output_type": "stream",
     "text": []
    }
   ],
   "source": [
    "#include <stdio.h>\n",
    "\n",
    "int main()\n",
    "{\n",
    "    /* Este es un comentario\n",
    "       de más de una línea\n",
    "    */\n",
    "\n",
    "    // este es un comentario de una línea\n",
    "    // este es otro comentario\n",
    "}"
   ]
  },
  {
   "cell_type": "markdown",
   "metadata": {},
   "source": [
    "### 2.4 Un programa simple en C\n",
    "\n",
    "Para comenzar, imprimiremos la cadena \"Hola mundo\" en nuestra consola. Para ello, escribiremos nuestro código en un fichero que llamaremos **hola.c**:"
   ]
  },
  {
   "cell_type": "code",
   "execution_count": 6,
   "metadata": {
    "collapsed": false
   },
   "outputs": [
    {
     "name": "stderr",
     "output_type": "stream",
     "text": []
    },
    {
     "name": "stdout",
     "output_type": "stream",
     "text": [
      "Hola mundo"
     ]
    }
   ],
   "source": [
    "#include <stdio.h>\n",
    "\n",
    "int main()\n",
    "{\n",
    "    /* Escribe un mensaje */\n",
    "\n",
    "    printf(\"Hola mundo\");\n",
    "}"
   ]
  },
  {
   "cell_type": "markdown",
   "metadata": {},
   "source": [
    "Para compilarlo se uso **gcc** desde el terminal:\n",
    "\n",
    "    gcc  -o hola hola.c\n",
    "    \n",
    "Se ejecuto con el nombre asignado al ejecutable:\n",
    "\n",
    "    ./hola\n",
    "\n",
    "Obteniendo el resultado mostrado anteriormente: **Hola mundo**"
   ]
  },
  {
   "cell_type": "markdown",
   "metadata": {},
   "source": [
    "### 2.5 Manipulación Básica de Datos\n",
    "\n",
    "#### 2.5.1 Secuencias de Escape\n",
    "\n",
    "Secuencia de Escape | Significado\n",
    "-- | --\n",
    "\\a | Sonido de alerta\n",
    "\\b | Retroceso\n",
    "\\f | Alimentación de hoja\n",
    "\\n | Nueva línea\n",
    "\\r | Retorno de carro\n",
    "\\t | Tabulador horizontal\n",
    "\\v | Tabulador vertical\n",
    "\\' | Comilla simple\n",
    "\\\" | Comilla doble\n",
    "\\\\\\ | Barra invertida\n",
    "\n",
    "#### 2.5.2 Tipos de Datos Básicos\n",
    "\n",
    "Datos escritos directamente.\n",
    "\n",
    "Nombre | Sintaxis | Descripción | Ejemplo\n",
    "-- | -- | -- | --\n",
    "Decimal | int | entero en base 10 | 127\n",
    "Flotante | float | número real | 2.78\n",
    "Caracter | char | caracter en ASCII | 'A'\n",
    "Cadena | char[] | cadena de caracteres | \"Hola\"\n",
    "\n",
    "#### 2.5.3 Tamaño de los Tipos de Datos Básicos\n",
    "\n",
    "Tipo | Tamaño (bytes)\n",
    "-- | --\n",
    "char, unsigned char | 1\n",
    "short int, unsigned short int | 2\n",
    "int, unsigned int, long int, unsigned long int, float | 4\n",
    "double | 8\n",
    "long double | 12\n",
    "\n",
    "#### 2.5.4 Operadores Aritméticos\n",
    "\n",
    "Operador | Nombre | Ejemplo\n",
    "-- | -- | --\n",
    "++ | Pre-incremento | ++a\n",
    "++ | Post-incremento | a++\n",
    "-- | Pre-decremento | --a\n",
    "-- | Post-decremento | a--\n",
    "- | Menos unario | -a\n",
    "* | Multiplicación | a*b\n",
    "/ | División | a/b\n",
    "\\% | Módulo | a%b\n",
    "+ | Suma | a+b\n",
    "- | Resta | a-b\n"
   ]
  },
  {
   "cell_type": "code",
   "execution_count": 1,
   "metadata": {
    "collapsed": false
   },
   "outputs": [
    {
     "name": "stderr",
     "output_type": "stream",
     "text": []
    },
    {
     "name": "stdout",
     "output_type": "stream",
     "text": [
      "           Pre-incremento     6\n",
      "          Post-incremento     6\n",
      "Luego del Post-incremento     7\n",
      "             Menos unario    -7\n",
      "   Multiplicacion por dos    14\n",
      "         Division por dos     3\n",
      "               Modulo dos     1\n",
      "            Suma con tres    10\n",
      "           Resta con tres     4\n"
     ]
    }
   ],
   "source": [
    "/* operadores.c*/\n",
    "#include <stdio.h>\n",
    "\n",
    "int main()\n",
    "{\n",
    "    int a=5;/* Declaración de un entero */\n",
    "\n",
    "    printf(\"%25s %5d\\n\",\"Pre-incremento\",++a);\n",
    "    printf(\"%25s %5d\\n\",\"Post-incremento\",a++);\n",
    "    printf(\"%25s %5d\\n\",\"Luego del Post-incremento\",a);\n",
    "    printf(\"%25s %5d\\n\",\"Menos unario\",-a);\n",
    "    printf(\"%25s %5d\\n\",\"Multiplicacion por dos\",a*2);\n",
    "    printf(\"%25s %5d\\n\",\"Division por dos\",a/2);\n",
    "    printf(\"%25s %5d\\n\",\"Modulo dos\",a%2);\n",
    "    printf(\"%25s %5d\\n\",\"Suma con tres\",a+3);\n",
    "    printf(\"%25s %5d\\n\",\"Resta con tres\",a-3);\n",
    "}"
   ]
  },
  {
   "cell_type": "markdown",
   "metadata": {},
   "source": [
    "Compilar con la siguiente sentencia:\n",
    " \n",
    "    gcc  -o operadores operadores.c\n",
    "\n",
    "Ejecutar:\n",
    "\n",
    "    ./operadores"
   ]
  },
  {
   "cell_type": "code",
   "execution_count": 3,
   "metadata": {
    "collapsed": false
   },
   "outputs": [
    {
     "name": "stderr",
     "output_type": "stream",
     "text": []
    },
    {
     "name": "stdout",
     "output_type": "stream",
     "text": [
      "Ingreso 1 argumentos y el primero de estos es /tmp/tmpcb0ouxsu.out\n"
     ]
    }
   ],
   "source": [
    "/*Programa que recibe argumentos desde el terminal*/\n",
    "\n",
    "#include <stdio.h>\n",
    "\n",
    "int main(int argc, char const *argv[])\n",
    "{\n",
    "    printf(\"Ingreso %d argumentos y el primero de estos es %s\\n\",argc,argv[0]);\n",
    "\n",
    "    return 0;\n",
    "}"
   ]
  },
  {
   "cell_type": "markdown",
   "metadata": {},
   "source": [
    "Compilar con la siguiente sentencia:\n",
    " \n",
    "    gcc  -o operadores operadores.c\n",
    "\n",
    "Ejecutar:\n",
    "\n",
    "    ./operadores"
   ]
  },
  {
   "cell_type": "markdown",
   "metadata": {},
   "source": [
    "* __rm__ elimina archivos y directorios."
   ]
  },
  {
   "cell_type": "markdown",
   "metadata": {},
   "source": [
    "#### 1.2.5 Estructura de los archivos en linux\n",
    "\n",
    "<center>\n",
    "<a title=\"Files\" href=\"http://i.blogs.es/b8d024/linux-file-system-hierarchy-linux-file-structure-optimized/original.jpg\"><img src=\"http://i.blogs.es/b8d024/linux-file-system-hierarchy-linux-file-structure-optimized/original.jpg\" width=\"800\" alt=\"Files\" title=\"Files\" /></a>\n",
    "</center>"
   ]
  },
  {
   "cell_type": "markdown",
   "metadata": {
    "collapsed": true
   },
   "source": [
    "#### 1.2.6 Comandos Comunes\n",
    "\n",
    "<center>\n",
    "<a title=\"Comandos\" href=\"http://learntocodewith.me/wp-content/uploads/2014/05/command-cheat-sheet.jpg\"><img src=\"http://learntocodewith.me/wp-content/uploads/2014/05/command-cheat-sheet.jpg\" width=\"600\" alt=\"Files\" title=\"Comandos\" /></a>\n",
    "</center>"
   ]
  }
 ],
 "metadata": {
  "anaconda-cloud": {},
  "kernelspec": {
   "display_name": "C",
   "language": "c",
   "name": "c_spec"
  },
  "language_info": {
   "file_extension": "c",
   "mimetype": "text/plain",
   "name": "c"
  }
 },
 "nbformat": 4,
 "nbformat_minor": 2
}
