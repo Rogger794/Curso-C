{
 "cells": [
  {
   "cell_type": "markdown",
   "metadata": {},
   "source": [
    "## 2. Introducción al Lenguaje C\n",
    "\n",
    "En este documento se introducen los elementos principales de la programación en lenguaje C (Creado entre 1970 y 1972 por Brian Kernighan y Dennis Ritchie para escribir el código del sistema operativo UNIX). Así como algunas funciones de las bibliotecas estándares.\n",
    "\n",
    "### 2.1 Bibliotecas Estándares\n",
    "\n",
    "* entrada y salida de datos **stdio.h**\n",
    "* manejo de cadenas **string.h**\n",
    "* memoria dinámica **stdlib.h**\n",
    "* rutinas matemáticas **math.h**\n",
    "\n",
    "### 2.2 Estructura de un Fichero Fuente\n",
    "\n",
    "    #include <biblioteca1.h>\n",
    "    #include <biblioteca2.h>\n",
    "    \n",
    "    //... declaraciones de funciones ... \n",
    "    \n",
    "    //... definiciones (cuerpos de funciones) ... \n",
    "    //... declaraciones de variables globales ... \n",
    "    \n",
    "    void main()\n",
    "    {\n",
    "    //... cuerpo del main ... \n",
    "    }\n",
    "    \n",
    "    //... otras definiciones de funciones ... \n",
    "\n",
    "### 2.3 Comentarios\n",
    "\n",
    "Un comentario es una secuencia de caracteres que el compilador trata como un único carácter de espacio en blanco y se pasa por alto de cualquier otra manera. Estos deben estar encerrados entre una barra diagonal y un asterisco \n",
    "(/* cualquier texto */). \n",
    "Otra forma de expresarlos es comenzando con // y terminándolo con un salto de línea (comentario de una sola línea).\\\\\n",
    "No se pueden anidar comentarios (comentarios dentro de otros)."
   ]
  },
  {
   "cell_type": "code",
   "execution_count": 7,
   "metadata": {
    "collapsed": false
   },
   "outputs": [
    {
     "name": "stderr",
     "output_type": "stream",
     "text": []
    },
    {
     "name": "stdout",
     "output_type": "stream",
     "text": []
    }
   ],
   "source": [
    "#include <stdio.h>\n",
    "\n",
    "int main()\n",
    "{\n",
    "    /* Este es un comentario\n",
    "       de más de una línea\n",
    "    */\n",
    "\n",
    "    // este es un comentario de una línea\n",
    "    // este es otro comentario\n",
    "}"
   ]
  },
  {
   "cell_type": "markdown",
   "metadata": {},
   "source": [
    "### 2.4 Un programa simple en C\n",
    "\n",
    "Para comenzar, imprimiremos la cadena \"Hola mundo\" en nuestra consola. Para ello, escribiremos nuestro código en un fichero que llamaremos **hola.c**:"
   ]
  },
  {
   "cell_type": "code",
   "execution_count": 6,
   "metadata": {
    "collapsed": false
   },
   "outputs": [
    {
     "name": "stderr",
     "output_type": "stream",
     "text": []
    },
    {
     "name": "stdout",
     "output_type": "stream",
     "text": [
      "Hola mundo"
     ]
    }
   ],
   "source": [
    "#include <stdio.h>\n",
    "\n",
    "int main()\n",
    "{\n",
    "    /* Escribe un mensaje */\n",
    "\n",
    "    printf(\"Hola mundo\");\n",
    "}"
   ]
  },
  {
   "cell_type": "markdown",
   "metadata": {},
   "source": [
    "Para compilarlo se uso **gcc** desde el terminal:\n",
    "\n",
    "    gcc  -o hola hola.c\n",
    "    \n",
    "Se ejecuto con el nombre asignado al ejecutable:\n",
    "\n",
    "    ./hola\n",
    "\n",
    "Obteniendo el resultado mostrado anteriormente: **Hola mundo**"
   ]
  },
  {
   "cell_type": "markdown",
   "metadata": {},
   "source": [
    "### 2.5 Manipulación Básica de Datos\n",
    "\n",
    "#### 2.5.1 Tipos de Datos Básicos\n",
    "\n",
    "Datos escritos directamente.\n",
    "\n",
    "Nombre | Sintaxis | Descripción | Ejemplo\n",
    "-- | -- | -- | --\n",
    "Decimal | int | entero en base 10 | 127\n",
    "Flotante | float | número real | 2.78\n",
    "Caracter | char | caracter en ASCII | 'A'\n",
    "Cadena | char[] | cadena de caracteres | \"Hola\"\n",
    "\n",
    "#### 2.5.2 Tamaño de los Tipos de Datos Básicos\n",
    "\n",
    "Tipo | Tamaño (bytes)\n",
    "-- | --\n",
    "char, unsigned char | 1\n",
    "short int, unsigned short int | 2\n",
    "int, unsigned int, long int, unsigned long int, float | 4\n",
    "double | 8\n",
    "long double | 12"
   ]
  },
  {
   "cell_type": "markdown",
   "metadata": {},
   "source": [
    "#### 1.2.3 Exploración del Sistema\n",
    "\n",
    "* __ls__ se puede especificar un directorio para listar."
   ]
  },
  {
   "cell_type": "markdown",
   "metadata": {},
   "source": [
    "* __file__ imprime una breve descripción del archivo.\n"
   ]
  },
  {
   "cell_type": "markdown",
   "metadata": {},
   "source": [
    "* __cat__ permite ver un archivo de texto desde el terminal."
   ]
  },
  {
   "cell_type": "markdown",
   "metadata": {},
   "source": [
    "* __cp__ copia archivos o directorios."
   ]
  },
  {
   "cell_type": "markdown",
   "metadata": {},
   "source": [
    "* __rm__ elimina archivos y directorios."
   ]
  },
  {
   "cell_type": "markdown",
   "metadata": {},
   "source": [
    "#### 1.2.5 Estructura de los archivos en linux\n",
    "\n",
    "<center>\n",
    "<a title=\"Files\" href=\"http://i.blogs.es/b8d024/linux-file-system-hierarchy-linux-file-structure-optimized/original.jpg\"><img src=\"http://i.blogs.es/b8d024/linux-file-system-hierarchy-linux-file-structure-optimized/original.jpg\" width=\"800\" alt=\"Files\" title=\"Files\" /></a>\n",
    "</center>"
   ]
  },
  {
   "cell_type": "markdown",
   "metadata": {
    "collapsed": true
   },
   "source": [
    "#### 1.2.6 Comandos Comunes\n",
    "\n",
    "<center>\n",
    "<a title=\"Comandos\" href=\"http://learntocodewith.me/wp-content/uploads/2014/05/command-cheat-sheet.jpg\"><img src=\"http://learntocodewith.me/wp-content/uploads/2014/05/command-cheat-sheet.jpg\" width=\"600\" alt=\"Files\" title=\"Comandos\" /></a>\n",
    "</center>"
   ]
  }
 ],
 "metadata": {
  "anaconda-cloud": {},
  "kernelspec": {
   "display_name": "C",
   "language": "c",
   "name": "c_spec"
  },
  "language_info": {
   "file_extension": "c",
   "mimetype": "text/plain",
   "name": "c"
  }
 },
 "nbformat": 4,
 "nbformat_minor": 2
}
